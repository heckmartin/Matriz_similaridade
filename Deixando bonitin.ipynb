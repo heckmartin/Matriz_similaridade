{
 "cells": [
  {
   "cell_type": "code",
   "execution_count": 3,
   "metadata": {},
   "outputs": [],
   "source": [
    "import argparse\n",
    "import click\n",
    "import itertools\n",
    "import librosa\n",
    "import numpy as np\n",
    "import os\n",
    "import sys\n",
    "import time\n",
    "\n",
    "_EPS = 1e-14\n",
    "\n",
    "def simpleself(seq, subseq_len):\n",
    "    \n",
    "    # prerequisites\n",
    "    exclusion_zone = int(np.round(subseq_len/2));\n",
    "    ndim = seq.shape[0]\n",
    "    seq_len = seq.shape[1]\n",
    "    matrix_profile_len = seq_len - subseq_len + 1;\n",
    "    \n",
    "    # windowed cumulative sum of the sequence\n",
    "    seq_cum_sum2 = np.insert(np.sum(np.cumsum(np.square(seq),1),0), 0, 0)\n",
    "    seq_cum_sum2 = seq_cum_sum2[subseq_len:]-seq_cum_sum2[0:seq_len - subseq_len + 1]\n",
    "    \n",
    "    # first distance profile\n",
    "    first_subseq = np.flip(seq[:,0:subseq_len],1)    \n",
    "    dist_profile = seq_cum_sum2 + seq_cum_sum2[0]\n",
    "    \n",
    "    prods = np.full([ndim,seq_len+subseq_len-1], np.inf)\n",
    "    for i_dim in range(0,ndim):\n",
    "        prods[i_dim,:] = np.convolve(first_subseq[i_dim,:],seq[i_dim,:])\n",
    "        dist_profile -= (2 * prods[i_dim,subseq_len-1:seq_len])\n",
    "    prods = prods[:, subseq_len-1:seq_len] # only the interesting products\n",
    "    prods_inv = np.copy(prods)\n",
    "    \n",
    "    dist_profile[0:exclusion_zone] = np.inf\n",
    "    \n",
    "    matrix_profile = np.ndarray((matrix_profile_len,matrix_profile_len))\n",
    "    matrix_profile[0] = dist_profile[:]\n",
    "\n",
    "    mp_index = -np.ones((matrix_profile_len), dtype=int)\n",
    "    mp_index[0] = np.argmin(dist_profile)\n",
    "\n",
    "    # for all the other values of the profile\n",
    "    for i_subseq in range(1,matrix_profile_len):\n",
    "        \n",
    "        sub_value = seq[:,i_subseq-1, np.newaxis] * seq[:,0:prods.shape[1]-1]\n",
    "        add_value = seq[:,i_subseq+subseq_len-1, np.newaxis] * seq[:, subseq_len:subseq_len+prods.shape[1]-1]\n",
    "\n",
    "        prods[:,1:] = prods[:,0:prods.shape[1]-1] - sub_value + add_value\n",
    "        prods[:,0] = prods_inv[:,i_subseq]\n",
    "        \n",
    "        # dist_profile = seq^2 + subseq^2 - 2 * seq.subseq\n",
    "        subseq_cum_sum2 = seq_cum_sum2[i_subseq]\n",
    "        dist_profile = seq_cum_sum2 + subseq_cum_sum2 - 2 * np.sum(prods,0)\n",
    "        \n",
    "        # excluding trivial matches\n",
    "        dist_profile[max(0,i_subseq-exclusion_zone+1):min(matrix_profile_len,i_subseq+exclusion_zone)] = np.inf\n",
    "        \n",
    "        matrix_profile[i_subseq] = dist_profile[:]\n",
    "        mp_index[i_subseq] = np.argmin(dist_profile)\n",
    "        \n",
    "    return matrix_profile, mp_index\n"
   ]
  },
  {
   "cell_type": "code",
   "execution_count": 4,
   "metadata": {},
   "outputs": [
    {
     "name": "stderr",
     "output_type": "stream",
     "text": [
      "/home/martin/.local/lib/python3.8/site-packages/librosa/util/utils.py:1725: FutureWarning: Conversion of the second argument of issubdtype from `float` to `np.floating` is deprecated. In future, it will be treated as `np.float64 == np.dtype(float).type`.\n",
      "  if np.issubdtype(x.dtype, float) or np.issubdtype(x.dtype, complex):\n",
      "/home/martin/.local/lib/python3.8/site-packages/librosa/util/utils.py:991: FutureWarning: Using a non-tuple sequence for multidimensional indexing is deprecated; use `arr[tuple(seq)]` instead of `arr[seq]`. In the future this will be interpreted as an array index, `arr[np.array(seq)]`, which will result either in an error or a different result.\n",
      "  return (x > x_pad[inds1]) & (x >= x_pad[inds2])\n",
      "/home/martin/.local/lib/python3.8/site-packages/librosa/util/utils.py:1725: FutureWarning: Conversion of the second argument of issubdtype from `complex` to `np.complexfloating` is deprecated. In future, it will be treated as `np.complex128 == np.dtype(complex).type`.\n",
      "  if np.issubdtype(x.dtype, float) or np.issubdtype(x.dtype, complex):\n",
      "/home/martin/.local/lib/python3.8/site-packages/librosa/feature/spectral.py:1096: DeprecationWarning: `hanning` is deprecated, use `scipy.signal.windows.hann` instead!\n",
      "  win = scipy.signal.hanning(win_len_smooth + 2, sym=False)\n"
     ]
    }
   ],
   "source": [
    "y, sr = librosa.load('../Simple/a.mp3')\n",
    "chroma_cens = librosa.feature.chroma_cens(y=y, sr=sr)\n",
    "\n",
    "sim_matrix, mpindex = simpleself(chroma_cens, 215) # 215 ~ 5sec"
   ]
  },
  {
   "cell_type": "code",
   "execution_count": null,
   "metadata": {},
   "outputs": [],
   "source": [
    "def calculando_proxim(sim_matrix, mediana = 25, exclusion = 25):\n",
    "    prox_mat = numpy.copy(sim_matrix)"
   ]
  }
 ],
 "metadata": {
  "kernelspec": {
   "display_name": "Python 3",
   "language": "python",
   "name": "python3"
  },
  "language_info": {
   "codemirror_mode": {
    "name": "ipython",
    "version": 3
   },
   "file_extension": ".py",
   "mimetype": "text/x-python",
   "name": "python",
   "nbconvert_exporter": "python",
   "pygments_lexer": "ipython3",
   "version": "3.8.5"
  }
 },
 "nbformat": 4,
 "nbformat_minor": 4
}
